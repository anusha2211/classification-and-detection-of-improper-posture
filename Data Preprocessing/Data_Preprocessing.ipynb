{
 "cells": [
  {
   "cell_type": "code",
   "execution_count": 2,
   "id": "d176e3cd",
   "metadata": {},
   "outputs": [],
   "source": [
    "import pandas as pd\n",
    "import numpy as np"
   ]
  },
  {
   "cell_type": "code",
   "execution_count": 3,
   "id": "8ea4a39f",
   "metadata": {},
   "outputs": [
    {
     "data": {
      "text/html": [
       "<div>\n",
       "<style scoped>\n",
       "    .dataframe tbody tr th:only-of-type {\n",
       "        vertical-align: middle;\n",
       "    }\n",
       "\n",
       "    .dataframe tbody tr th {\n",
       "        vertical-align: top;\n",
       "    }\n",
       "\n",
       "    .dataframe thead th {\n",
       "        text-align: right;\n",
       "    }\n",
       "</style>\n",
       "<table border=\"1\" class=\"dataframe\">\n",
       "  <thead>\n",
       "    <tr style=\"text-align: right;\">\n",
       "      <th></th>\n",
       "      <th>index</th>\n",
       "      <th>Ax1</th>\n",
       "      <th>Ay1</th>\n",
       "      <th>Az1</th>\n",
       "      <th>Ax2</th>\n",
       "      <th>Ay2</th>\n",
       "      <th>Az2</th>\n",
       "      <th>label</th>\n",
       "    </tr>\n",
       "  </thead>\n",
       "  <tbody>\n",
       "    <tr>\n",
       "      <th>0</th>\n",
       "      <td>0</td>\n",
       "      <td>-0.34741</td>\n",
       "      <td>-0.39551</td>\n",
       "      <td>0.94263</td>\n",
       "      <td>-0.05273</td>\n",
       "      <td>0.30005</td>\n",
       "      <td>0.91821</td>\n",
       "      <td>0.0</td>\n",
       "    </tr>\n",
       "    <tr>\n",
       "      <th>1</th>\n",
       "      <td>1</td>\n",
       "      <td>-0.13452</td>\n",
       "      <td>-0.36768</td>\n",
       "      <td>0.97095</td>\n",
       "      <td>-0.04932</td>\n",
       "      <td>0.30176</td>\n",
       "      <td>0.92676</td>\n",
       "      <td>0.0</td>\n",
       "    </tr>\n",
       "    <tr>\n",
       "      <th>2</th>\n",
       "      <td>2</td>\n",
       "      <td>-0.11279</td>\n",
       "      <td>-0.36182</td>\n",
       "      <td>0.96289</td>\n",
       "      <td>-0.04785</td>\n",
       "      <td>0.29639</td>\n",
       "      <td>0.92505</td>\n",
       "      <td>0.0</td>\n",
       "    </tr>\n",
       "    <tr>\n",
       "      <th>3</th>\n",
       "      <td>3</td>\n",
       "      <td>-0.12915</td>\n",
       "      <td>-0.36792</td>\n",
       "      <td>0.95898</td>\n",
       "      <td>-0.05713</td>\n",
       "      <td>0.29785</td>\n",
       "      <td>0.92041</td>\n",
       "      <td>0.0</td>\n",
       "    </tr>\n",
       "    <tr>\n",
       "      <th>4</th>\n",
       "      <td>4</td>\n",
       "      <td>-0.13379</td>\n",
       "      <td>-0.36548</td>\n",
       "      <td>0.96753</td>\n",
       "      <td>-0.05810</td>\n",
       "      <td>0.31104</td>\n",
       "      <td>0.92578</td>\n",
       "      <td>0.0</td>\n",
       "    </tr>\n",
       "    <tr>\n",
       "      <th>5</th>\n",
       "      <td>5</td>\n",
       "      <td>-0.13184</td>\n",
       "      <td>-0.34766</td>\n",
       "      <td>0.96753</td>\n",
       "      <td>-0.06103</td>\n",
       "      <td>0.30420</td>\n",
       "      <td>0.93726</td>\n",
       "      <td>0.0</td>\n",
       "    </tr>\n",
       "    <tr>\n",
       "      <th>6</th>\n",
       "      <td>6</td>\n",
       "      <td>-0.14087</td>\n",
       "      <td>-0.35181</td>\n",
       "      <td>0.97266</td>\n",
       "      <td>-0.06567</td>\n",
       "      <td>0.29517</td>\n",
       "      <td>0.92554</td>\n",
       "      <td>0.0</td>\n",
       "    </tr>\n",
       "    <tr>\n",
       "      <th>7</th>\n",
       "      <td>7</td>\n",
       "      <td>-0.12866</td>\n",
       "      <td>-0.34229</td>\n",
       "      <td>0.95898</td>\n",
       "      <td>-0.06177</td>\n",
       "      <td>0.30542</td>\n",
       "      <td>0.92773</td>\n",
       "      <td>0.0</td>\n",
       "    </tr>\n",
       "    <tr>\n",
       "      <th>8</th>\n",
       "      <td>8</td>\n",
       "      <td>-0.14526</td>\n",
       "      <td>-0.34595</td>\n",
       "      <td>0.96606</td>\n",
       "      <td>-0.06226</td>\n",
       "      <td>0.29736</td>\n",
       "      <td>0.92188</td>\n",
       "      <td>0.0</td>\n",
       "    </tr>\n",
       "    <tr>\n",
       "      <th>9</th>\n",
       "      <td>9</td>\n",
       "      <td>-0.13037</td>\n",
       "      <td>-0.34814</td>\n",
       "      <td>0.96704</td>\n",
       "      <td>-0.04492</td>\n",
       "      <td>0.35596</td>\n",
       "      <td>0.92480</td>\n",
       "      <td>0.0</td>\n",
       "    </tr>\n",
       "  </tbody>\n",
       "</table>\n",
       "</div>"
      ],
      "text/plain": [
       "   index      Ax1      Ay1      Az1      Ax2      Ay2      Az2  label\n",
       "0      0 -0.34741 -0.39551  0.94263 -0.05273  0.30005  0.91821    0.0\n",
       "1      1 -0.13452 -0.36768  0.97095 -0.04932  0.30176  0.92676    0.0\n",
       "2      2 -0.11279 -0.36182  0.96289 -0.04785  0.29639  0.92505    0.0\n",
       "3      3 -0.12915 -0.36792  0.95898 -0.05713  0.29785  0.92041    0.0\n",
       "4      4 -0.13379 -0.36548  0.96753 -0.05810  0.31104  0.92578    0.0\n",
       "5      5 -0.13184 -0.34766  0.96753 -0.06103  0.30420  0.93726    0.0\n",
       "6      6 -0.14087 -0.35181  0.97266 -0.06567  0.29517  0.92554    0.0\n",
       "7      7 -0.12866 -0.34229  0.95898 -0.06177  0.30542  0.92773    0.0\n",
       "8      8 -0.14526 -0.34595  0.96606 -0.06226  0.29736  0.92188    0.0\n",
       "9      9 -0.13037 -0.34814  0.96704 -0.04492  0.35596  0.92480    0.0"
      ]
     },
     "execution_count": 3,
     "metadata": {},
     "output_type": "execute_result"
    }
   ],
   "source": [
    "df = pd.read_csv('final_data1.csv')\n",
    "df.head(10)"
   ]
  },
  {
   "cell_type": "code",
   "execution_count": 4,
   "id": "2e4e28b3",
   "metadata": {},
   "outputs": [
    {
     "data": {
      "text/html": [
       "<div>\n",
       "<style scoped>\n",
       "    .dataframe tbody tr th:only-of-type {\n",
       "        vertical-align: middle;\n",
       "    }\n",
       "\n",
       "    .dataframe tbody tr th {\n",
       "        vertical-align: top;\n",
       "    }\n",
       "\n",
       "    .dataframe thead th {\n",
       "        text-align: right;\n",
       "    }\n",
       "</style>\n",
       "<table border=\"1\" class=\"dataframe\">\n",
       "  <thead>\n",
       "    <tr style=\"text-align: right;\">\n",
       "      <th></th>\n",
       "      <th>Ax1</th>\n",
       "      <th>Ay1</th>\n",
       "      <th>Az1</th>\n",
       "      <th>Ax2</th>\n",
       "      <th>Ay2</th>\n",
       "      <th>Az2</th>\n",
       "      <th>label</th>\n",
       "    </tr>\n",
       "  </thead>\n",
       "  <tbody>\n",
       "    <tr>\n",
       "      <th>0</th>\n",
       "      <td>-0.34741</td>\n",
       "      <td>-0.39551</td>\n",
       "      <td>0.94263</td>\n",
       "      <td>-0.05273</td>\n",
       "      <td>0.30005</td>\n",
       "      <td>0.91821</td>\n",
       "      <td>0.0</td>\n",
       "    </tr>\n",
       "    <tr>\n",
       "      <th>1</th>\n",
       "      <td>-0.13452</td>\n",
       "      <td>-0.36768</td>\n",
       "      <td>0.97095</td>\n",
       "      <td>-0.04932</td>\n",
       "      <td>0.30176</td>\n",
       "      <td>0.92676</td>\n",
       "      <td>0.0</td>\n",
       "    </tr>\n",
       "    <tr>\n",
       "      <th>2</th>\n",
       "      <td>-0.11279</td>\n",
       "      <td>-0.36182</td>\n",
       "      <td>0.96289</td>\n",
       "      <td>-0.04785</td>\n",
       "      <td>0.29639</td>\n",
       "      <td>0.92505</td>\n",
       "      <td>0.0</td>\n",
       "    </tr>\n",
       "    <tr>\n",
       "      <th>3</th>\n",
       "      <td>-0.12915</td>\n",
       "      <td>-0.36792</td>\n",
       "      <td>0.95898</td>\n",
       "      <td>-0.05713</td>\n",
       "      <td>0.29785</td>\n",
       "      <td>0.92041</td>\n",
       "      <td>0.0</td>\n",
       "    </tr>\n",
       "    <tr>\n",
       "      <th>4</th>\n",
       "      <td>-0.13379</td>\n",
       "      <td>-0.36548</td>\n",
       "      <td>0.96753</td>\n",
       "      <td>-0.05810</td>\n",
       "      <td>0.31104</td>\n",
       "      <td>0.92578</td>\n",
       "      <td>0.0</td>\n",
       "    </tr>\n",
       "  </tbody>\n",
       "</table>\n",
       "</div>"
      ],
      "text/plain": [
       "       Ax1      Ay1      Az1      Ax2      Ay2      Az2  label\n",
       "0 -0.34741 -0.39551  0.94263 -0.05273  0.30005  0.91821    0.0\n",
       "1 -0.13452 -0.36768  0.97095 -0.04932  0.30176  0.92676    0.0\n",
       "2 -0.11279 -0.36182  0.96289 -0.04785  0.29639  0.92505    0.0\n",
       "3 -0.12915 -0.36792  0.95898 -0.05713  0.29785  0.92041    0.0\n",
       "4 -0.13379 -0.36548  0.96753 -0.05810  0.31104  0.92578    0.0"
      ]
     },
     "execution_count": 4,
     "metadata": {},
     "output_type": "execute_result"
    }
   ],
   "source": [
    "df.drop('index', axis='columns', inplace=True)\n",
    "df.head()"
   ]
  },
  {
   "cell_type": "code",
   "execution_count": 5,
   "id": "b36897ad",
   "metadata": {},
   "outputs": [],
   "source": [
    "df_feature = df[['Ax1', 'Ay1', 'Az1', 'Ax2', 'Ay2', 'Az2']]\n",
    "X = np.asarray(df_feature)\n",
    "Y = np.asarray(df['label'])"
   ]
  },
  {
   "cell_type": "markdown",
   "id": "be2d5191",
   "metadata": {},
   "source": [
    "#### Splitting into Training and Testing"
   ]
  },
  {
   "cell_type": "code",
   "execution_count": 6,
   "id": "5dbf0cc4",
   "metadata": {},
   "outputs": [],
   "source": [
    "from sklearn.model_selection import train_test_split\n",
    "X_train,X_test,y_train,y_test = train_test_split(X,Y,test_size=0.2,random_state = 4)"
   ]
  },
  {
   "cell_type": "markdown",
   "id": "8b1c8acf",
   "metadata": {},
   "source": [
    "### Decision Tree"
   ]
  },
  {
   "cell_type": "markdown",
   "id": "04539733",
   "metadata": {},
   "source": [
    "#### Grid Search"
   ]
  },
  {
   "cell_type": "code",
   "execution_count": 19,
   "id": "89ba403b",
   "metadata": {},
   "outputs": [],
   "source": [
    "param_dict = {\n",
    "    \"criterion\" : ['gini' , 'entropy'],\n",
    "    \"max_depth\": range (1,31),\n",
    "    \"min_samples_split\":range (1,10),\n",
    "    \"min_samples_leaf\": range(1,5)\n",
    "} "
   ]
  },
  {
   "cell_type": "code",
   "execution_count": 21,
   "id": "d358f72e",
   "metadata": {},
   "outputs": [
    {
     "name": "stdout",
     "output_type": "stream",
     "text": [
      "Fitting 10 folds for each of 2160 candidates, totalling 21600 fits\n"
     ]
    },
    {
     "name": "stderr",
     "output_type": "stream",
     "text": [
      "C:\\Users\\User\\anaconda3\\lib\\site-packages\\sklearn\\model_selection\\_search.py:922: UserWarning: One or more of the test scores are non-finite: [       nan 0.44235491 0.44235491 ... 0.99436384 0.99425223 0.99453125]\n",
      "  warnings.warn(\n"
     ]
    },
    {
     "data": {
      "text/plain": [
       "GridSearchCV(cv=10, estimator=DecisionTreeClassifier(), n_jobs=-1,\n",
       "             param_grid={'criterion': ['gini', 'entropy'],\n",
       "                         'max_depth': range(1, 31),\n",
       "                         'min_samples_leaf': range(1, 5),\n",
       "                         'min_samples_split': range(1, 10)},\n",
       "             verbose=1)"
      ]
     },
     "execution_count": 21,
     "metadata": {},
     "output_type": "execute_result"
    }
   ],
   "source": [
    "from sklearn.model_selection import GridSearchCV\n",
    "\n",
    "grid = GridSearchCV(model1, param_grid=param_dict, cv=10, verbose=1, n_jobs=-1)\n",
    "grid.fit(X_train,y_train)"
   ]
  },
  {
   "cell_type": "code",
   "execution_count": 22,
   "id": "255a3297",
   "metadata": {},
   "outputs": [
    {
     "data": {
      "text/plain": [
       "{'criterion': 'entropy',\n",
       " 'max_depth': 13,\n",
       " 'min_samples_leaf': 1,\n",
       " 'min_samples_split': 3}"
      ]
     },
     "execution_count": 22,
     "metadata": {},
     "output_type": "execute_result"
    }
   ],
   "source": [
    "grid.best_params_"
   ]
  },
  {
   "cell_type": "code",
   "execution_count": 25,
   "id": "83bf370e",
   "metadata": {},
   "outputs": [
    {
     "data": {
      "text/plain": [
       "0.9948660714285713"
      ]
     },
     "execution_count": 25,
     "metadata": {},
     "output_type": "execute_result"
    }
   ],
   "source": [
    "grid.best_score_"
   ]
  },
  {
   "cell_type": "code",
   "execution_count": 34,
   "id": "5957b1f6",
   "metadata": {},
   "outputs": [],
   "source": [
    "from sklearn.tree import DecisionTreeClassifier\n",
    "\n",
    "dt_model = DecisionTreeClassifier(max_depth=13)\n",
    "dt_model.fit(X_train, y_train)\n",
    "y_pred1 = dt_model.predict(X_test)"
   ]
  },
  {
   "cell_type": "code",
   "execution_count": 35,
   "id": "fe7d419b",
   "metadata": {},
   "outputs": [
    {
     "data": {
      "text/plain": [
       "0.9979352678571428"
      ]
     },
     "execution_count": 35,
     "metadata": {},
     "output_type": "execute_result"
    }
   ],
   "source": [
    "dt_model.score(X_train, y_train)"
   ]
  },
  {
   "cell_type": "code",
   "execution_count": 36,
   "id": "a8af5bb0",
   "metadata": {},
   "outputs": [
    {
     "data": {
      "text/plain": [
       "0.9957589285714286"
      ]
     },
     "execution_count": 36,
     "metadata": {},
     "output_type": "execute_result"
    }
   ],
   "source": [
    "dt_model.score(X_test, y_test)"
   ]
  },
  {
   "cell_type": "code",
   "execution_count": 37,
   "id": "057879d6",
   "metadata": {},
   "outputs": [
    {
     "name": "stdout",
     "output_type": "stream",
     "text": [
      "              precision    recall  f1-score   support\n",
      "\n",
      "         0.0       1.00      1.00      1.00      1632\n",
      "         1.0       0.99      1.00      0.99      1759\n",
      "         2.0       1.00      1.00      1.00      1511\n",
      "         3.0       0.99      0.96      0.98       733\n",
      "         4.0       1.00      1.00      1.00      2242\n",
      "         5.0       1.00      1.00      1.00      1083\n",
      "\n",
      "    accuracy                           1.00      8960\n",
      "   macro avg       1.00      0.99      0.99      8960\n",
      "weighted avg       1.00      1.00      1.00      8960\n",
      "\n"
     ]
    }
   ],
   "source": [
    "from sklearn.metrics import classification_report\n",
    "print(classification_report(y_test,y_pred1))"
   ]
  },
  {
   "cell_type": "code",
   "execution_count": 38,
   "id": "4f64cffd",
   "metadata": {},
   "outputs": [
    {
     "name": "stdout",
     "output_type": "stream",
     "text": [
      "[[1630    0    0    2    0    0]\n",
      " [   0 1758    0    0    1    0]\n",
      " [   0    0 1508    3    0    0]\n",
      " [   0   18    2  707    6    0]\n",
      " [   0    1    0    3 2237    1]\n",
      " [   0    1    0    0    0 1082]]\n"
     ]
    }
   ],
   "source": [
    "from sklearn.metrics import  confusion_matrix\n",
    "print(confusion_matrix(y_test,y_pred1))"
   ]
  },
  {
   "cell_type": "markdown",
   "id": "cbccda95",
   "metadata": {},
   "source": [
    "### SVM"
   ]
  },
  {
   "cell_type": "markdown",
   "id": "37efdfc2",
   "metadata": {},
   "source": [
    "#### Grid Search"
   ]
  },
  {
   "cell_type": "code",
   "execution_count": 7,
   "id": "1f5997f2",
   "metadata": {},
   "outputs": [
    {
     "name": "stdout",
     "output_type": "stream",
     "text": [
      "Fitting 5 folds for each of 75 candidates, totalling 375 fits\n",
      "[CV 1/5] END ........C=0.1, gamma=1, kernel=rbf;, score=0.994 total time=   2.4s\n",
      "[CV 2/5] END ........C=0.1, gamma=1, kernel=rbf;, score=0.994 total time=   2.4s\n",
      "[CV 3/5] END ........C=0.1, gamma=1, kernel=rbf;, score=0.993 total time=   2.4s\n",
      "[CV 4/5] END ........C=0.1, gamma=1, kernel=rbf;, score=0.994 total time=   2.4s\n",
      "[CV 5/5] END ........C=0.1, gamma=1, kernel=rbf;, score=0.993 total time=   2.4s\n",
      "[CV 1/5] END .......C=0.1, gamma=1, kernel=poly;, score=0.987 total time=   1.3s\n",
      "[CV 2/5] END .......C=0.1, gamma=1, kernel=poly;, score=0.989 total time=   1.3s\n",
      "[CV 3/5] END .......C=0.1, gamma=1, kernel=poly;, score=0.988 total time=   1.4s\n",
      "[CV 4/5] END .......C=0.1, gamma=1, kernel=poly;, score=0.987 total time=   1.2s\n",
      "[CV 5/5] END .......C=0.1, gamma=1, kernel=poly;, score=0.985 total time=   1.2s\n",
      "[CV 1/5] END .....C=0.1, gamma=1, kernel=linear;, score=0.958 total time=   2.9s\n",
      "[CV 2/5] END .....C=0.1, gamma=1, kernel=linear;, score=0.960 total time=   2.8s\n",
      "[CV 3/5] END .....C=0.1, gamma=1, kernel=linear;, score=0.959 total time=   2.9s\n",
      "[CV 4/5] END .....C=0.1, gamma=1, kernel=linear;, score=0.959 total time=   2.8s\n",
      "[CV 5/5] END .....C=0.1, gamma=1, kernel=linear;, score=0.960 total time=   2.8s\n",
      "[CV 1/5] END ......C=0.1, gamma=0.1, kernel=rbf;, score=0.978 total time=   7.9s\n",
      "[CV 2/5] END ......C=0.1, gamma=0.1, kernel=rbf;, score=0.977 total time=   7.9s\n",
      "[CV 3/5] END ......C=0.1, gamma=0.1, kernel=rbf;, score=0.979 total time=   8.0s\n",
      "[CV 4/5] END ......C=0.1, gamma=0.1, kernel=rbf;, score=0.976 total time=   7.9s\n",
      "[CV 5/5] END ......C=0.1, gamma=0.1, kernel=rbf;, score=0.977 total time=   8.2s\n",
      "[CV 1/5] END .....C=0.1, gamma=0.1, kernel=poly;, score=0.937 total time=  30.9s\n",
      "[CV 2/5] END .....C=0.1, gamma=0.1, kernel=poly;, score=0.935 total time=  31.5s\n",
      "[CV 3/5] END .....C=0.1, gamma=0.1, kernel=poly;, score=0.937 total time=  31.6s\n",
      "[CV 4/5] END .....C=0.1, gamma=0.1, kernel=poly;, score=0.935 total time=  31.0s\n",
      "[CV 5/5] END .....C=0.1, gamma=0.1, kernel=poly;, score=0.935 total time=  30.5s\n",
      "[CV 1/5] END ...C=0.1, gamma=0.1, kernel=linear;, score=0.958 total time=   2.8s\n",
      "[CV 2/5] END ...C=0.1, gamma=0.1, kernel=linear;, score=0.960 total time=   2.8s\n",
      "[CV 3/5] END ...C=0.1, gamma=0.1, kernel=linear;, score=0.959 total time=   2.9s\n",
      "[CV 4/5] END ...C=0.1, gamma=0.1, kernel=linear;, score=0.959 total time=   2.7s\n",
      "[CV 5/5] END ...C=0.1, gamma=0.1, kernel=linear;, score=0.960 total time=   2.8s\n",
      "[CV 1/5] END .....C=0.1, gamma=0.01, kernel=rbf;, score=0.930 total time=  29.0s\n",
      "[CV 2/5] END .....C=0.1, gamma=0.01, kernel=rbf;, score=0.925 total time=  28.9s\n",
      "[CV 3/5] END .....C=0.1, gamma=0.01, kernel=rbf;, score=0.927 total time=  28.9s\n",
      "[CV 4/5] END .....C=0.1, gamma=0.01, kernel=rbf;, score=0.927 total time=  29.2s\n",
      "[CV 5/5] END .....C=0.1, gamma=0.01, kernel=rbf;, score=0.927 total time=  28.9s\n",
      "[CV 1/5] END ....C=0.1, gamma=0.01, kernel=poly;, score=0.259 total time=  51.9s\n",
      "[CV 2/5] END ....C=0.1, gamma=0.01, kernel=poly;, score=0.259 total time=  52.4s\n",
      "[CV 3/5] END ....C=0.1, gamma=0.01, kernel=poly;, score=0.259 total time=  51.9s\n",
      "[CV 4/5] END ....C=0.1, gamma=0.01, kernel=poly;, score=0.259 total time=  51.6s\n",
      "[CV 5/5] END ....C=0.1, gamma=0.01, kernel=poly;, score=0.258 total time=  52.9s\n",
      "[CV 1/5] END ..C=0.1, gamma=0.01, kernel=linear;, score=0.958 total time=   2.8s\n",
      "[CV 2/5] END ..C=0.1, gamma=0.01, kernel=linear;, score=0.960 total time=   2.7s\n",
      "[CV 3/5] END ..C=0.1, gamma=0.01, kernel=linear;, score=0.959 total time=   2.8s\n",
      "[CV 4/5] END ..C=0.1, gamma=0.01, kernel=linear;, score=0.959 total time=   2.8s\n",
      "[CV 5/5] END ..C=0.1, gamma=0.01, kernel=linear;, score=0.960 total time=   2.8s\n",
      "[CV 1/5] END ....C=0.1, gamma=0.001, kernel=rbf;, score=0.648 total time= 1.3min\n",
      "[CV 2/5] END ....C=0.1, gamma=0.001, kernel=rbf;, score=0.647 total time= 1.3min\n",
      "[CV 3/5] END ....C=0.1, gamma=0.001, kernel=rbf;, score=0.647 total time= 1.3min\n",
      "[CV 4/5] END ....C=0.1, gamma=0.001, kernel=rbf;, score=0.645 total time= 1.2min\n",
      "[CV 5/5] END ....C=0.1, gamma=0.001, kernel=rbf;, score=0.653 total time= 1.3min\n",
      "[CV 1/5] END ...C=0.1, gamma=0.001, kernel=poly;, score=0.259 total time=  51.3s\n",
      "[CV 2/5] END ...C=0.1, gamma=0.001, kernel=poly;, score=0.259 total time=  51.2s\n",
      "[CV 3/5] END ...C=0.1, gamma=0.001, kernel=poly;, score=0.259 total time=  51.3s\n",
      "[CV 4/5] END ...C=0.1, gamma=0.001, kernel=poly;, score=0.259 total time=  51.3s\n",
      "[CV 5/5] END ...C=0.1, gamma=0.001, kernel=poly;, score=0.258 total time=  51.2s\n",
      "[CV 1/5] END .C=0.1, gamma=0.001, kernel=linear;, score=0.958 total time=   2.8s\n",
      "[CV 2/5] END .C=0.1, gamma=0.001, kernel=linear;, score=0.960 total time=   2.7s\n",
      "[CV 3/5] END .C=0.1, gamma=0.001, kernel=linear;, score=0.959 total time=   2.9s\n",
      "[CV 4/5] END .C=0.1, gamma=0.001, kernel=linear;, score=0.959 total time=   2.8s\n",
      "[CV 5/5] END .C=0.1, gamma=0.001, kernel=linear;, score=0.960 total time=   2.8s\n",
      "[CV 1/5] END ...C=0.1, gamma=0.0001, kernel=rbf;, score=0.259 total time= 1.4min\n",
      "[CV 2/5] END ...C=0.1, gamma=0.0001, kernel=rbf;, score=0.259 total time= 1.4min\n",
      "[CV 3/5] END ...C=0.1, gamma=0.0001, kernel=rbf;, score=0.259 total time= 1.4min\n",
      "[CV 4/5] END ...C=0.1, gamma=0.0001, kernel=rbf;, score=0.259 total time= 1.4min\n",
      "[CV 5/5] END ...C=0.1, gamma=0.0001, kernel=rbf;, score=0.258 total time= 1.4min\n",
      "[CV 1/5] END ..C=0.1, gamma=0.0001, kernel=poly;, score=0.259 total time=  51.2s\n",
      "[CV 2/5] END ..C=0.1, gamma=0.0001, kernel=poly;, score=0.259 total time=  51.4s\n",
      "[CV 3/5] END ..C=0.1, gamma=0.0001, kernel=poly;, score=0.259 total time=  51.4s\n",
      "[CV 4/5] END ..C=0.1, gamma=0.0001, kernel=poly;, score=0.259 total time=  51.1s\n",
      "[CV 5/5] END ..C=0.1, gamma=0.0001, kernel=poly;, score=0.258 total time=  51.2s\n",
      "[CV 1/5] END C=0.1, gamma=0.0001, kernel=linear;, score=0.958 total time=   2.8s\n",
      "[CV 2/5] END C=0.1, gamma=0.0001, kernel=linear;, score=0.960 total time=   2.8s\n",
      "[CV 3/5] END C=0.1, gamma=0.0001, kernel=linear;, score=0.959 total time=   2.8s\n",
      "[CV 4/5] END C=0.1, gamma=0.0001, kernel=linear;, score=0.959 total time=   2.7s\n",
      "[CV 5/5] END C=0.1, gamma=0.0001, kernel=linear;, score=0.960 total time=   2.8s\n",
      "[CV 1/5] END ..........C=1, gamma=1, kernel=rbf;, score=0.997 total time=   0.9s\n",
      "[CV 2/5] END ..........C=1, gamma=1, kernel=rbf;, score=0.997 total time=   1.0s\n",
      "[CV 3/5] END ..........C=1, gamma=1, kernel=rbf;, score=0.995 total time=   1.0s\n",
      "[CV 4/5] END ..........C=1, gamma=1, kernel=rbf;, score=0.997 total time=   1.0s\n",
      "[CV 5/5] END ..........C=1, gamma=1, kernel=rbf;, score=0.995 total time=   1.0s\n",
      "[CV 1/5] END .........C=1, gamma=1, kernel=poly;, score=0.992 total time=   1.3s\n",
      "[CV 2/5] END .........C=1, gamma=1, kernel=poly;, score=0.991 total time=   1.2s\n",
      "[CV 3/5] END .........C=1, gamma=1, kernel=poly;, score=0.992 total time=   1.2s\n",
      "[CV 4/5] END .........C=1, gamma=1, kernel=poly;, score=0.991 total time=   1.2s\n",
      "[CV 5/5] END .........C=1, gamma=1, kernel=poly;, score=0.990 total time=   1.1s\n",
      "[CV 1/5] END .......C=1, gamma=1, kernel=linear;, score=0.960 total time=   2.4s\n",
      "[CV 2/5] END .......C=1, gamma=1, kernel=linear;, score=0.963 total time=   2.4s\n",
      "[CV 3/5] END .......C=1, gamma=1, kernel=linear;, score=0.962 total time=   2.4s\n",
      "[CV 4/5] END .......C=1, gamma=1, kernel=linear;, score=0.961 total time=   2.4s\n",
      "[CV 5/5] END .......C=1, gamma=1, kernel=linear;, score=0.963 total time=   2.4s\n",
      "[CV 1/5] END ........C=1, gamma=0.1, kernel=rbf;, score=0.989 total time=   2.6s\n",
      "[CV 2/5] END ........C=1, gamma=0.1, kernel=rbf;, score=0.989 total time=   2.6s\n",
      "[CV 3/5] END ........C=1, gamma=0.1, kernel=rbf;, score=0.988 total time=   2.7s\n",
      "[CV 4/5] END ........C=1, gamma=0.1, kernel=rbf;, score=0.989 total time=   2.6s\n",
      "[CV 5/5] END ........C=1, gamma=0.1, kernel=rbf;, score=0.988 total time=   2.6s\n",
      "[CV 1/5] END .......C=1, gamma=0.1, kernel=poly;, score=0.957 total time=   7.1s\n",
      "[CV 2/5] END .......C=1, gamma=0.1, kernel=poly;, score=0.955 total time=   7.1s\n",
      "[CV 3/5] END .......C=1, gamma=0.1, kernel=poly;, score=0.957 total time=   7.2s\n",
      "[CV 4/5] END .......C=1, gamma=0.1, kernel=poly;, score=0.955 total time=   7.1s\n",
      "[CV 5/5] END .......C=1, gamma=0.1, kernel=poly;, score=0.955 total time=   7.0s\n",
      "[CV 1/5] END .....C=1, gamma=0.1, kernel=linear;, score=0.960 total time=   2.4s\n",
      "[CV 2/5] END .....C=1, gamma=0.1, kernel=linear;, score=0.963 total time=   2.4s\n",
      "[CV 3/5] END .....C=1, gamma=0.1, kernel=linear;, score=0.962 total time=   2.5s\n",
      "[CV 4/5] END .....C=1, gamma=0.1, kernel=linear;, score=0.961 total time=   2.4s\n",
      "[CV 5/5] END .....C=1, gamma=0.1, kernel=linear;, score=0.963 total time=   2.5s\n",
      "[CV 1/5] END .......C=1, gamma=0.01, kernel=rbf;, score=0.959 total time=   9.4s\n",
      "[CV 2/5] END .......C=1, gamma=0.01, kernel=rbf;, score=0.959 total time=   9.4s\n",
      "[CV 3/5] END .......C=1, gamma=0.01, kernel=rbf;, score=0.959 total time=   9.4s\n",
      "[CV 4/5] END .......C=1, gamma=0.01, kernel=rbf;, score=0.958 total time=   9.4s\n",
      "[CV 5/5] END .......C=1, gamma=0.01, kernel=rbf;, score=0.958 total time=   9.5s\n",
      "[CV 1/5] END ......C=1, gamma=0.01, kernel=poly;, score=0.259 total time=  52.3s\n",
      "[CV 2/5] END ......C=1, gamma=0.01, kernel=poly;, score=0.259 total time=  52.5s\n",
      "[CV 3/5] END ......C=1, gamma=0.01, kernel=poly;, score=0.259 total time=  53.2s\n",
      "[CV 4/5] END ......C=1, gamma=0.01, kernel=poly;, score=0.259 total time=  52.6s\n",
      "[CV 5/5] END ......C=1, gamma=0.01, kernel=poly;, score=0.258 total time=  52.7s\n",
      "[CV 1/5] END ....C=1, gamma=0.01, kernel=linear;, score=0.960 total time=   2.4s\n",
      "[CV 2/5] END ....C=1, gamma=0.01, kernel=linear;, score=0.963 total time=   2.4s\n",
      "[CV 3/5] END ....C=1, gamma=0.01, kernel=linear;, score=0.962 total time=   2.4s\n",
      "[CV 4/5] END ....C=1, gamma=0.01, kernel=linear;, score=0.961 total time=   2.4s\n",
      "[CV 5/5] END ....C=1, gamma=0.01, kernel=linear;, score=0.963 total time=   2.4s\n",
      "[CV 1/5] END ......C=1, gamma=0.001, kernel=rbf;, score=0.928 total time=  28.8s\n",
      "[CV 2/5] END ......C=1, gamma=0.001, kernel=rbf;, score=0.925 total time=  28.6s\n",
      "[CV 3/5] END ......C=1, gamma=0.001, kernel=rbf;, score=0.926 total time=  28.8s\n",
      "[CV 4/5] END ......C=1, gamma=0.001, kernel=rbf;, score=0.927 total time=  28.8s\n",
      "[CV 5/5] END ......C=1, gamma=0.001, kernel=rbf;, score=0.926 total time=  28.8s\n",
      "[CV 1/5] END .....C=1, gamma=0.001, kernel=poly;, score=0.259 total time=  51.5s\n",
      "[CV 2/5] END .....C=1, gamma=0.001, kernel=poly;, score=0.259 total time=  51.3s\n",
      "[CV 3/5] END .....C=1, gamma=0.001, kernel=poly;, score=0.259 total time=  51.4s\n",
      "[CV 4/5] END .....C=1, gamma=0.001, kernel=poly;, score=0.259 total time=  51.0s\n",
      "[CV 5/5] END .....C=1, gamma=0.001, kernel=poly;, score=0.258 total time=  51.2s\n",
      "[CV 1/5] END ...C=1, gamma=0.001, kernel=linear;, score=0.960 total time=   2.5s\n",
      "[CV 2/5] END ...C=1, gamma=0.001, kernel=linear;, score=0.963 total time=   2.4s\n",
      "[CV 3/5] END ...C=1, gamma=0.001, kernel=linear;, score=0.962 total time=   2.5s\n",
      "[CV 4/5] END ...C=1, gamma=0.001, kernel=linear;, score=0.961 total time=   2.5s\n",
      "[CV 5/5] END ...C=1, gamma=0.001, kernel=linear;, score=0.963 total time=   2.5s\n",
      "[CV 1/5] END .....C=1, gamma=0.0001, kernel=rbf;, score=0.648 total time= 1.3min\n",
      "[CV 2/5] END .....C=1, gamma=0.0001, kernel=rbf;, score=0.647 total time= 1.3min\n",
      "[CV 3/5] END .....C=1, gamma=0.0001, kernel=rbf;, score=0.647 total time= 1.2min\n",
      "[CV 4/5] END .....C=1, gamma=0.0001, kernel=rbf;, score=0.645 total time= 1.2min\n",
      "[CV 5/5] END .....C=1, gamma=0.0001, kernel=rbf;, score=0.654 total time= 1.2min\n",
      "[CV 1/5] END ....C=1, gamma=0.0001, kernel=poly;, score=0.259 total time=  51.9s\n",
      "[CV 2/5] END ....C=1, gamma=0.0001, kernel=poly;, score=0.259 total time=  51.4s\n",
      "[CV 3/5] END ....C=1, gamma=0.0001, kernel=poly;, score=0.259 total time=  51.3s\n",
      "[CV 4/5] END ....C=1, gamma=0.0001, kernel=poly;, score=0.259 total time=  51.3s\n",
      "[CV 5/5] END ....C=1, gamma=0.0001, kernel=poly;, score=0.258 total time=  51.2s\n",
      "[CV 1/5] END ..C=1, gamma=0.0001, kernel=linear;, score=0.960 total time=   2.4s\n",
      "[CV 2/5] END ..C=1, gamma=0.0001, kernel=linear;, score=0.963 total time=   2.3s\n",
      "[CV 3/5] END ..C=1, gamma=0.0001, kernel=linear;, score=0.962 total time=   2.4s\n",
      "[CV 4/5] END ..C=1, gamma=0.0001, kernel=linear;, score=0.961 total time=   2.4s\n",
      "[CV 5/5] END ..C=1, gamma=0.0001, kernel=linear;, score=0.963 total time=   2.5s\n",
      "[CV 1/5] END .........C=10, gamma=1, kernel=rbf;, score=0.997 total time=   0.6s\n",
      "[CV 2/5] END .........C=10, gamma=1, kernel=rbf;, score=0.996 total time=   0.6s\n",
      "[CV 3/5] END .........C=10, gamma=1, kernel=rbf;, score=0.997 total time=   0.7s\n",
      "[CV 4/5] END .........C=10, gamma=1, kernel=rbf;, score=0.998 total time=   0.7s\n",
      "[CV 5/5] END .........C=10, gamma=1, kernel=rbf;, score=0.997 total time=   0.6s\n",
      "[CV 1/5] END ........C=10, gamma=1, kernel=poly;, score=0.991 total time=   3.5s\n",
      "[CV 2/5] END ........C=10, gamma=1, kernel=poly;, score=0.991 total time=   3.2s\n",
      "[CV 3/5] END ........C=10, gamma=1, kernel=poly;, score=0.993 total time=   3.5s\n",
      "[CV 4/5] END ........C=10, gamma=1, kernel=poly;, score=0.991 total time=   3.0s\n",
      "[CV 5/5] END ........C=10, gamma=1, kernel=poly;, score=0.989 total time=   2.7s\n",
      "[CV 1/5] END ......C=10, gamma=1, kernel=linear;, score=0.961 total time=   3.5s\n",
      "[CV 2/5] END ......C=10, gamma=1, kernel=linear;, score=0.963 total time=   3.6s\n",
      "[CV 3/5] END ......C=10, gamma=1, kernel=linear;, score=0.963 total time=   3.6s\n",
      "[CV 4/5] END ......C=10, gamma=1, kernel=linear;, score=0.961 total time=   3.6s\n",
      "[CV 5/5] END ......C=10, gamma=1, kernel=linear;, score=0.964 total time=   3.6s\n",
      "[CV 1/5] END .......C=10, gamma=0.1, kernel=rbf;, score=0.994 total time=   1.2s\n",
      "[CV 2/5] END .......C=10, gamma=0.1, kernel=rbf;, score=0.994 total time=   1.2s\n",
      "[CV 3/5] END .......C=10, gamma=0.1, kernel=rbf;, score=0.993 total time=   1.1s\n",
      "[CV 4/5] END .......C=10, gamma=0.1, kernel=rbf;, score=0.994 total time=   1.2s\n",
      "[CV 5/5] END .......C=10, gamma=0.1, kernel=rbf;, score=0.993 total time=   1.2s\n",
      "[CV 1/5] END ......C=10, gamma=0.1, kernel=poly;, score=0.979 total time=   2.3s\n",
      "[CV 2/5] END ......C=10, gamma=0.1, kernel=poly;, score=0.979 total time=   2.3s\n",
      "[CV 3/5] END ......C=10, gamma=0.1, kernel=poly;, score=0.978 total time=   2.3s\n",
      "[CV 4/5] END ......C=10, gamma=0.1, kernel=poly;, score=0.977 total time=   2.3s\n",
      "[CV 5/5] END ......C=10, gamma=0.1, kernel=poly;, score=0.977 total time=   2.3s\n",
      "[CV 1/5] END ....C=10, gamma=0.1, kernel=linear;, score=0.961 total time=   3.5s\n",
      "[CV 2/5] END ....C=10, gamma=0.1, kernel=linear;, score=0.963 total time=   3.5s\n",
      "[CV 3/5] END ....C=10, gamma=0.1, kernel=linear;, score=0.963 total time=   3.6s\n",
      "[CV 4/5] END ....C=10, gamma=0.1, kernel=linear;, score=0.961 total time=   3.6s\n",
      "[CV 5/5] END ....C=10, gamma=0.1, kernel=linear;, score=0.964 total time=   3.6s\n",
      "[CV 1/5] END ......C=10, gamma=0.01, kernel=rbf;, score=0.978 total time=   4.2s\n",
      "[CV 2/5] END ......C=10, gamma=0.01, kernel=rbf;, score=0.978 total time=   4.2s\n",
      "[CV 3/5] END ......C=10, gamma=0.01, kernel=rbf;, score=0.979 total time=   4.3s\n",
      "[CV 4/5] END ......C=10, gamma=0.01, kernel=rbf;, score=0.977 total time=   4.3s\n",
      "[CV 5/5] END ......C=10, gamma=0.01, kernel=rbf;, score=0.978 total time=   4.3s\n",
      "[CV 1/5] END .....C=10, gamma=0.01, kernel=poly;, score=0.259 total time=  52.8s\n",
      "[CV 2/5] END .....C=10, gamma=0.01, kernel=poly;, score=0.259 total time=  52.7s\n",
      "[CV 3/5] END .....C=10, gamma=0.01, kernel=poly;, score=0.259 total time=  52.8s\n",
      "[CV 4/5] END .....C=10, gamma=0.01, kernel=poly;, score=0.259 total time=  52.9s\n",
      "[CV 5/5] END .....C=10, gamma=0.01, kernel=poly;, score=0.260 total time=  52.7s\n",
      "[CV 1/5] END ...C=10, gamma=0.01, kernel=linear;, score=0.961 total time=   3.7s\n",
      "[CV 2/5] END ...C=10, gamma=0.01, kernel=linear;, score=0.963 total time=   3.7s\n",
      "[CV 3/5] END ...C=10, gamma=0.01, kernel=linear;, score=0.963 total time=   3.7s\n",
      "[CV 4/5] END ...C=10, gamma=0.01, kernel=linear;, score=0.961 total time=   3.9s\n",
      "[CV 5/5] END ...C=10, gamma=0.01, kernel=linear;, score=0.964 total time=   3.6s\n",
      "[CV 1/5] END .....C=10, gamma=0.001, kernel=rbf;, score=0.955 total time=   9.9s\n",
      "[CV 2/5] END .....C=10, gamma=0.001, kernel=rbf;, score=0.955 total time=   9.8s\n",
      "[CV 3/5] END .....C=10, gamma=0.001, kernel=rbf;, score=0.953 total time=   9.8s\n",
      "[CV 4/5] END .....C=10, gamma=0.001, kernel=rbf;, score=0.955 total time=   9.8s\n",
      "[CV 5/5] END .....C=10, gamma=0.001, kernel=rbf;, score=0.954 total time=   9.8s\n",
      "[CV 1/5] END ....C=10, gamma=0.001, kernel=poly;, score=0.259 total time=  51.3s\n",
      "[CV 2/5] END ....C=10, gamma=0.001, kernel=poly;, score=0.259 total time=  51.4s\n",
      "[CV 3/5] END ....C=10, gamma=0.001, kernel=poly;, score=0.259 total time=  51.5s\n",
      "[CV 4/5] END ....C=10, gamma=0.001, kernel=poly;, score=0.259 total time=  51.5s\n",
      "[CV 5/5] END ....C=10, gamma=0.001, kernel=poly;, score=0.258 total time=  51.5s\n",
      "[CV 1/5] END ..C=10, gamma=0.001, kernel=linear;, score=0.961 total time=   3.7s\n",
      "[CV 2/5] END ..C=10, gamma=0.001, kernel=linear;, score=0.963 total time=   3.6s\n",
      "[CV 3/5] END ..C=10, gamma=0.001, kernel=linear;, score=0.963 total time=   3.6s\n",
      "[CV 4/5] END ..C=10, gamma=0.001, kernel=linear;, score=0.961 total time=   3.7s\n",
      "[CV 5/5] END ..C=10, gamma=0.001, kernel=linear;, score=0.964 total time=   3.6s\n",
      "[CV 1/5] END ....C=10, gamma=0.0001, kernel=rbf;, score=0.928 total time=  28.8s\n",
      "[CV 2/5] END ....C=10, gamma=0.0001, kernel=rbf;, score=0.925 total time=  29.0s\n",
      "[CV 3/5] END ....C=10, gamma=0.0001, kernel=rbf;, score=0.926 total time=  28.9s\n",
      "[CV 4/5] END ....C=10, gamma=0.0001, kernel=rbf;, score=0.927 total time=  28.8s\n",
      "[CV 5/5] END ....C=10, gamma=0.0001, kernel=rbf;, score=0.926 total time=  28.8s\n",
      "[CV 1/5] END ...C=10, gamma=0.0001, kernel=poly;, score=0.259 total time=  51.6s\n",
      "[CV 2/5] END ...C=10, gamma=0.0001, kernel=poly;, score=0.259 total time=  51.6s\n",
      "[CV 3/5] END ...C=10, gamma=0.0001, kernel=poly;, score=0.259 total time=  51.8s\n",
      "[CV 4/5] END ...C=10, gamma=0.0001, kernel=poly;, score=0.259 total time=  51.7s\n",
      "[CV 5/5] END ...C=10, gamma=0.0001, kernel=poly;, score=0.258 total time=  51.6s\n",
      "[CV 1/5] END .C=10, gamma=0.0001, kernel=linear;, score=0.961 total time=   3.6s\n",
      "[CV 2/5] END .C=10, gamma=0.0001, kernel=linear;, score=0.963 total time=   3.6s\n",
      "[CV 3/5] END .C=10, gamma=0.0001, kernel=linear;, score=0.963 total time=   3.7s\n",
      "[CV 4/5] END .C=10, gamma=0.0001, kernel=linear;, score=0.961 total time=   3.7s\n",
      "[CV 5/5] END .C=10, gamma=0.0001, kernel=linear;, score=0.964 total time=   3.7s\n",
      "[CV 1/5] END ........C=100, gamma=1, kernel=rbf;, score=0.997 total time=   0.6s\n",
      "[CV 2/5] END ........C=100, gamma=1, kernel=rbf;, score=0.996 total time=   0.6s\n",
      "[CV 3/5] END ........C=100, gamma=1, kernel=rbf;, score=0.997 total time=   0.6s\n",
      "[CV 4/5] END ........C=100, gamma=1, kernel=rbf;, score=0.998 total time=   0.7s\n",
      "[CV 5/5] END ........C=100, gamma=1, kernel=rbf;, score=0.998 total time=   0.6s\n",
      "[CV 1/5] END .......C=100, gamma=1, kernel=poly;, score=0.991 total time=  19.9s\n",
      "[CV 2/5] END .......C=100, gamma=1, kernel=poly;, score=0.991 total time=  17.1s\n",
      "[CV 3/5] END .......C=100, gamma=1, kernel=poly;, score=0.993 total time=  20.0s\n",
      "[CV 4/5] END .......C=100, gamma=1, kernel=poly;, score=0.992 total time=  17.8s\n",
      "[CV 5/5] END .......C=100, gamma=1, kernel=poly;, score=0.991 total time=  11.9s\n",
      "[CV 1/5] END .....C=100, gamma=1, kernel=linear;, score=0.961 total time=  11.5s\n",
      "[CV 2/5] END .....C=100, gamma=1, kernel=linear;, score=0.963 total time=  11.3s\n",
      "[CV 3/5] END .....C=100, gamma=1, kernel=linear;, score=0.962 total time=  11.0s\n",
      "[CV 4/5] END .....C=100, gamma=1, kernel=linear;, score=0.961 total time=  11.2s\n",
      "[CV 5/5] END .....C=100, gamma=1, kernel=linear;, score=0.964 total time=  11.5s\n",
      "[CV 1/5] END ......C=100, gamma=0.1, kernel=rbf;, score=0.996 total time=   0.7s\n",
      "[CV 2/5] END ......C=100, gamma=0.1, kernel=rbf;, score=0.996 total time=   0.7s\n",
      "[CV 3/5] END ......C=100, gamma=0.1, kernel=rbf;, score=0.995 total time=   0.7s\n",
      "[CV 4/5] END ......C=100, gamma=0.1, kernel=rbf;, score=0.996 total time=   0.7s\n",
      "[CV 5/5] END ......C=100, gamma=0.1, kernel=rbf;, score=0.996 total time=   0.7s\n",
      "[CV 1/5] END .....C=100, gamma=0.1, kernel=poly;, score=0.987 total time=   1.3s\n",
      "[CV 2/5] END .....C=100, gamma=0.1, kernel=poly;, score=0.989 total time=   1.3s\n",
      "[CV 3/5] END .....C=100, gamma=0.1, kernel=poly;, score=0.988 total time=   1.3s\n",
      "[CV 4/5] END .....C=100, gamma=0.1, kernel=poly;, score=0.987 total time=   1.2s\n",
      "[CV 5/5] END .....C=100, gamma=0.1, kernel=poly;, score=0.985 total time=   1.2s\n",
      "[CV 1/5] END ...C=100, gamma=0.1, kernel=linear;, score=0.961 total time=  11.4s\n",
      "[CV 2/5] END ...C=100, gamma=0.1, kernel=linear;, score=0.963 total time=  11.3s\n",
      "[CV 3/5] END ...C=100, gamma=0.1, kernel=linear;, score=0.962 total time=  11.0s\n",
      "[CV 4/5] END ...C=100, gamma=0.1, kernel=linear;, score=0.961 total time=  11.1s\n",
      "[CV 5/5] END ...C=100, gamma=0.1, kernel=linear;, score=0.964 total time=  11.4s\n",
      "[CV 1/5] END .....C=100, gamma=0.01, kernel=rbf;, score=0.988 total time=   2.2s\n",
      "[CV 2/5] END .....C=100, gamma=0.01, kernel=rbf;, score=0.989 total time=   2.1s\n",
      "[CV 3/5] END .....C=100, gamma=0.01, kernel=rbf;, score=0.988 total time=   2.1s\n",
      "[CV 4/5] END .....C=100, gamma=0.01, kernel=rbf;, score=0.989 total time=   2.1s\n",
      "[CV 5/5] END .....C=100, gamma=0.01, kernel=rbf;, score=0.987 total time=   2.2s\n",
      "[CV 1/5] END ....C=100, gamma=0.01, kernel=poly;, score=0.937 total time=  30.5s\n",
      "[CV 2/5] END ....C=100, gamma=0.01, kernel=poly;, score=0.935 total time=  30.4s\n",
      "[CV 3/5] END ....C=100, gamma=0.01, kernel=poly;, score=0.937 total time=  30.6s\n",
      "[CV 4/5] END ....C=100, gamma=0.01, kernel=poly;, score=0.935 total time=  30.6s\n",
      "[CV 5/5] END ....C=100, gamma=0.01, kernel=poly;, score=0.935 total time=  30.2s\n",
      "[CV 1/5] END ..C=100, gamma=0.01, kernel=linear;, score=0.961 total time=  11.7s\n",
      "[CV 2/5] END ..C=100, gamma=0.01, kernel=linear;, score=0.963 total time=  11.2s\n",
      "[CV 3/5] END ..C=100, gamma=0.01, kernel=linear;, score=0.962 total time=  11.0s\n",
      "[CV 4/5] END ..C=100, gamma=0.01, kernel=linear;, score=0.961 total time=  11.0s\n",
      "[CV 5/5] END ..C=100, gamma=0.01, kernel=linear;, score=0.964 total time=  11.4s\n",
      "[CV 1/5] END ....C=100, gamma=0.001, kernel=rbf;, score=0.962 total time=   5.6s\n",
      "[CV 2/5] END ....C=100, gamma=0.001, kernel=rbf;, score=0.964 total time=   5.6s\n",
      "[CV 3/5] END ....C=100, gamma=0.001, kernel=rbf;, score=0.963 total time=   5.6s\n",
      "[CV 4/5] END ....C=100, gamma=0.001, kernel=rbf;, score=0.963 total time=   5.5s\n",
      "[CV 5/5] END ....C=100, gamma=0.001, kernel=rbf;, score=0.964 total time=   5.6s\n",
      "[CV 1/5] END ...C=100, gamma=0.001, kernel=poly;, score=0.259 total time=  51.2s\n",
      "[CV 2/5] END ...C=100, gamma=0.001, kernel=poly;, score=0.259 total time=  51.4s\n",
      "[CV 3/5] END ...C=100, gamma=0.001, kernel=poly;, score=0.259 total time=  51.3s\n",
      "[CV 4/5] END ...C=100, gamma=0.001, kernel=poly;, score=0.259 total time=  51.2s\n",
      "[CV 5/5] END ...C=100, gamma=0.001, kernel=poly;, score=0.258 total time=  51.4s\n",
      "[CV 1/5] END .C=100, gamma=0.001, kernel=linear;, score=0.961 total time=  11.5s\n",
      "[CV 2/5] END .C=100, gamma=0.001, kernel=linear;, score=0.963 total time=  11.2s\n",
      "[CV 3/5] END .C=100, gamma=0.001, kernel=linear;, score=0.962 total time=  11.0s\n",
      "[CV 4/5] END .C=100, gamma=0.001, kernel=linear;, score=0.961 total time=  11.1s\n",
      "[CV 5/5] END .C=100, gamma=0.001, kernel=linear;, score=0.964 total time=  11.4s\n",
      "[CV 1/5] END ...C=100, gamma=0.0001, kernel=rbf;, score=0.954 total time=   9.8s\n",
      "[CV 2/5] END ...C=100, gamma=0.0001, kernel=rbf;, score=0.954 total time=   9.9s\n",
      "[CV 3/5] END ...C=100, gamma=0.0001, kernel=rbf;, score=0.953 total time=   9.9s\n",
      "[CV 4/5] END ...C=100, gamma=0.0001, kernel=rbf;, score=0.955 total time=   9.9s\n",
      "[CV 5/5] END ...C=100, gamma=0.0001, kernel=rbf;, score=0.954 total time=   9.9s\n",
      "[CV 1/5] END ..C=100, gamma=0.0001, kernel=poly;, score=0.259 total time=  51.1s\n",
      "[CV 2/5] END ..C=100, gamma=0.0001, kernel=poly;, score=0.259 total time=  51.3s\n",
      "[CV 3/5] END ..C=100, gamma=0.0001, kernel=poly;, score=0.259 total time=  51.4s\n",
      "[CV 4/5] END ..C=100, gamma=0.0001, kernel=poly;, score=0.259 total time=  51.2s\n",
      "[CV 5/5] END ..C=100, gamma=0.0001, kernel=poly;, score=0.258 total time=  51.4s\n",
      "[CV 1/5] END C=100, gamma=0.0001, kernel=linear;, score=0.961 total time=  11.5s\n",
      "[CV 2/5] END C=100, gamma=0.0001, kernel=linear;, score=0.963 total time=  11.2s\n",
      "[CV 3/5] END C=100, gamma=0.0001, kernel=linear;, score=0.962 total time=  11.0s\n",
      "[CV 4/5] END C=100, gamma=0.0001, kernel=linear;, score=0.961 total time=  11.0s\n",
      "[CV 5/5] END C=100, gamma=0.0001, kernel=linear;, score=0.964 total time=  11.3s\n",
      "[CV 1/5] END .......C=1000, gamma=1, kernel=rbf;, score=0.998 total time=   0.7s\n",
      "[CV 2/5] END .......C=1000, gamma=1, kernel=rbf;, score=0.996 total time=   0.7s\n",
      "[CV 3/5] END .......C=1000, gamma=1, kernel=rbf;, score=0.997 total time=   0.7s\n",
      "[CV 4/5] END .......C=1000, gamma=1, kernel=rbf;, score=0.998 total time=   0.8s\n",
      "[CV 5/5] END .......C=1000, gamma=1, kernel=rbf;, score=0.997 total time=   0.7s\n",
      "[CV 1/5] END ......C=1000, gamma=1, kernel=poly;, score=0.990 total time= 2.9min\n",
      "[CV 2/5] END ......C=1000, gamma=1, kernel=poly;, score=0.991 total time= 2.5min\n",
      "[CV 3/5] END ......C=1000, gamma=1, kernel=poly;, score=0.993 total time= 3.0min\n",
      "[CV 4/5] END ......C=1000, gamma=1, kernel=poly;, score=0.991 total time= 3.0min\n",
      "[CV 5/5] END ......C=1000, gamma=1, kernel=poly;, score=0.991 total time= 1.5min\n",
      "[CV 1/5] END ....C=1000, gamma=1, kernel=linear;, score=0.961 total time= 1.1min\n",
      "[CV 2/5] END ....C=1000, gamma=1, kernel=linear;, score=0.963 total time= 1.2min\n",
      "[CV 3/5] END ....C=1000, gamma=1, kernel=linear;, score=0.962 total time= 1.1min\n",
      "[CV 4/5] END ....C=1000, gamma=1, kernel=linear;, score=0.961 total time= 1.1min\n",
      "[CV 5/5] END ....C=1000, gamma=1, kernel=linear;, score=0.964 total time= 1.0min\n",
      "[CV 1/5] END .....C=1000, gamma=0.1, kernel=rbf;, score=0.997 total time=   0.7s\n",
      "[CV 2/5] END .....C=1000, gamma=0.1, kernel=rbf;, score=0.995 total time=   0.7s\n",
      "[CV 3/5] END .....C=1000, gamma=0.1, kernel=rbf;, score=0.996 total time=   0.7s\n",
      "[CV 4/5] END .....C=1000, gamma=0.1, kernel=rbf;, score=0.997 total time=   0.7s\n",
      "[CV 5/5] END .....C=1000, gamma=0.1, kernel=rbf;, score=0.997 total time=   0.7s\n",
      "[CV 1/5] END ....C=1000, gamma=0.1, kernel=poly;, score=0.992 total time=   1.3s\n",
      "[CV 2/5] END ....C=1000, gamma=0.1, kernel=poly;, score=0.991 total time=   1.3s\n",
      "[CV 3/5] END ....C=1000, gamma=0.1, kernel=poly;, score=0.992 total time=   1.3s\n",
      "[CV 4/5] END ....C=1000, gamma=0.1, kernel=poly;, score=0.991 total time=   1.2s\n",
      "[CV 5/5] END ....C=1000, gamma=0.1, kernel=poly;, score=0.990 total time=   1.1s\n",
      "[CV 1/5] END ..C=1000, gamma=0.1, kernel=linear;, score=0.961 total time= 1.1min\n",
      "[CV 2/5] END ..C=1000, gamma=0.1, kernel=linear;, score=0.963 total time= 1.1min\n",
      "[CV 3/5] END ..C=1000, gamma=0.1, kernel=linear;, score=0.962 total time= 1.1min\n",
      "[CV 4/5] END ..C=1000, gamma=0.1, kernel=linear;, score=0.961 total time= 1.1min\n",
      "[CV 5/5] END ..C=1000, gamma=0.1, kernel=linear;, score=0.964 total time= 1.0min\n",
      "[CV 1/5] END ....C=1000, gamma=0.01, kernel=rbf;, score=0.994 total time=   1.3s\n",
      "[CV 2/5] END ....C=1000, gamma=0.01, kernel=rbf;, score=0.994 total time=   1.3s\n",
      "[CV 3/5] END ....C=1000, gamma=0.01, kernel=rbf;, score=0.993 total time=   1.2s\n",
      "[CV 4/5] END ....C=1000, gamma=0.01, kernel=rbf;, score=0.994 total time=   1.3s\n",
      "[CV 5/5] END ....C=1000, gamma=0.01, kernel=rbf;, score=0.993 total time=   1.3s\n",
      "[CV 1/5] END ...C=1000, gamma=0.01, kernel=poly;, score=0.957 total time=   7.1s\n",
      "[CV 2/5] END ...C=1000, gamma=0.01, kernel=poly;, score=0.955 total time=   7.1s\n",
      "[CV 3/5] END ...C=1000, gamma=0.01, kernel=poly;, score=0.957 total time=   7.2s\n",
      "[CV 4/5] END ...C=1000, gamma=0.01, kernel=poly;, score=0.955 total time=   7.1s\n",
      "[CV 5/5] END ...C=1000, gamma=0.01, kernel=poly;, score=0.955 total time=   7.0s\n",
      "[CV 1/5] END .C=1000, gamma=0.01, kernel=linear;, score=0.961 total time= 1.1min\n",
      "[CV 2/5] END .C=1000, gamma=0.01, kernel=linear;, score=0.963 total time= 1.1min\n",
      "[CV 3/5] END .C=1000, gamma=0.01, kernel=linear;, score=0.962 total time= 1.2min\n",
      "[CV 4/5] END .C=1000, gamma=0.01, kernel=linear;, score=0.961 total time= 1.1min\n",
      "[CV 5/5] END .C=1000, gamma=0.01, kernel=linear;, score=0.964 total time= 1.0min\n",
      "[CV 1/5] END ...C=1000, gamma=0.001, kernel=rbf;, score=0.978 total time=   4.0s\n",
      "[CV 2/5] END ...C=1000, gamma=0.001, kernel=rbf;, score=0.979 total time=   4.0s\n",
      "[CV 3/5] END ...C=1000, gamma=0.001, kernel=rbf;, score=0.979 total time=   3.9s\n",
      "[CV 4/5] END ...C=1000, gamma=0.001, kernel=rbf;, score=0.977 total time=   4.0s\n",
      "[CV 5/5] END ...C=1000, gamma=0.001, kernel=rbf;, score=0.978 total time=   3.9s\n",
      "[CV 1/5] END ..C=1000, gamma=0.001, kernel=poly;, score=0.259 total time=  52.3s\n",
      "[CV 2/5] END ..C=1000, gamma=0.001, kernel=poly;, score=0.259 total time=  52.3s\n",
      "[CV 3/5] END ..C=1000, gamma=0.001, kernel=poly;, score=0.259 total time=  53.1s\n",
      "[CV 4/5] END ..C=1000, gamma=0.001, kernel=poly;, score=0.259 total time=  52.7s\n",
      "[CV 5/5] END ..C=1000, gamma=0.001, kernel=poly;, score=0.258 total time=  52.8s\n",
      "[CV 1/5] END C=1000, gamma=0.001, kernel=linear;, score=0.961 total time= 1.1min\n",
      "[CV 2/5] END C=1000, gamma=0.001, kernel=linear;, score=0.963 total time= 1.1min\n",
      "[CV 3/5] END C=1000, gamma=0.001, kernel=linear;, score=0.962 total time= 1.1min\n",
      "[CV 4/5] END C=1000, gamma=0.001, kernel=linear;, score=0.961 total time= 1.1min\n",
      "[CV 5/5] END C=1000, gamma=0.001, kernel=linear;, score=0.964 total time= 1.0min\n",
      "[CV 1/5] END ..C=1000, gamma=0.0001, kernel=rbf;, score=0.958 total time=   5.8s\n",
      "[CV 2/5] END ..C=1000, gamma=0.0001, kernel=rbf;, score=0.961 total time=   5.6s\n",
      "[CV 3/5] END ..C=1000, gamma=0.0001, kernel=rbf;, score=0.960 total time=   5.8s\n",
      "[CV 4/5] END ..C=1000, gamma=0.0001, kernel=rbf;, score=0.960 total time=   5.6s\n",
      "[CV 5/5] END ..C=1000, gamma=0.0001, kernel=rbf;, score=0.961 total time=   5.7s\n",
      "[CV 1/5] END .C=1000, gamma=0.0001, kernel=poly;, score=0.259 total time=  51.6s\n",
      "[CV 2/5] END .C=1000, gamma=0.0001, kernel=poly;, score=0.259 total time=  51.8s\n",
      "[CV 3/5] END .C=1000, gamma=0.0001, kernel=poly;, score=0.259 total time=  51.6s\n",
      "[CV 4/5] END .C=1000, gamma=0.0001, kernel=poly;, score=0.259 total time=  51.5s\n",
      "[CV 5/5] END .C=1000, gamma=0.0001, kernel=poly;, score=0.258 total time=  51.7s\n",
      "[CV 1/5] END C=1000, gamma=0.0001, kernel=linear;, score=0.961 total time= 1.1min\n",
      "[CV 2/5] END C=1000, gamma=0.0001, kernel=linear;, score=0.963 total time= 1.1min\n",
      "[CV 3/5] END C=1000, gamma=0.0001, kernel=linear;, score=0.962 total time= 1.1min\n",
      "[CV 4/5] END C=1000, gamma=0.0001, kernel=linear;, score=0.961 total time= 1.1min\n",
      "[CV 5/5] END C=1000, gamma=0.0001, kernel=linear;, score=0.964 total time= 1.0min\n"
     ]
    },
    {
     "data": {
      "text/plain": [
       "GridSearchCV(estimator=SVC(),\n",
       "             param_grid={'C': [0.1, 1, 10, 100, 1000],\n",
       "                         'gamma': [1, 0.1, 0.01, 0.001, 0.0001],\n",
       "                         'kernel': ['rbf', 'poly', 'linear']},\n",
       "             verbose=5)"
      ]
     },
     "execution_count": 7,
     "metadata": {},
     "output_type": "execute_result"
    }
   ],
   "source": [
    "param_grid={'C':[0.1,1,10,100,1000],'gamma':[1,0.1,0.01,0.001,0.0001],'kernel':['rbf','poly','linear']}\n",
    "\n",
    "from sklearn.svm import SVC\n",
    "from sklearn.model_selection import GridSearchCV\n",
    "\n",
    "grid=GridSearchCV(SVC(), param_grid, refit=True, verbose=5)\n",
    "\n",
    "grid.fit(X_train,y_train)"
   ]
  },
  {
   "cell_type": "code",
   "execution_count": 8,
   "id": "b54c75b0",
   "metadata": {},
   "outputs": [
    {
     "data": {
      "text/plain": [
       "{'C': 100, 'gamma': 1, 'kernel': 'rbf'}"
      ]
     },
     "execution_count": 8,
     "metadata": {},
     "output_type": "execute_result"
    }
   ],
   "source": [
    "grid.best_params_"
   ]
  },
  {
   "cell_type": "code",
   "execution_count": 9,
   "id": "1b7517e8",
   "metadata": {},
   "outputs": [
    {
     "data": {
      "text/plain": [
       "0.9970703125"
      ]
     },
     "execution_count": 9,
     "metadata": {},
     "output_type": "execute_result"
    }
   ],
   "source": [
    "grid.best_score_"
   ]
  },
  {
   "cell_type": "code",
   "execution_count": 25,
   "id": "4c9ebc9b-0f0f-4a7b-bd0b-fdeb7f97616e",
   "metadata": {},
   "outputs": [
    {
     "ename": "SyntaxError",
     "evalue": "positional argument follows keyword argument (Temp/ipykernel_9964/2870471240.py, line 24)",
     "output_type": "error",
     "traceback": [
      "\u001b[1;36m  File \u001b[1;32m\"C:\\Users\\User\\AppData\\Local\\Temp/ipykernel_9964/2870471240.py\"\u001b[1;36m, line \u001b[1;32m24\u001b[0m\n\u001b[1;33m    ax.plot(grid_param_1, scores_mean[idx,:], '-o', label= name_param_2 + ': ' + str(val), grid_param_1[23])\u001b[0m\n\u001b[1;37m                                                                                           ^\u001b[0m\n\u001b[1;31mSyntaxError\u001b[0m\u001b[1;31m:\u001b[0m positional argument follows keyword argument\n"
     ]
    }
   ],
   "source": [
    "import matplotlib.pyplot as plt\n",
    "\n",
    "def plot_grid_search(cv_results, metric, grid_param_1, grid_param_2, name_param_1, name_param_2):\n",
    "    # Get Test Scores Mean and std for each grid search\n",
    "#     scores_mean = cv_results[('mean_test_' + metric)]\n",
    "#     scores_sd = cv_results[('std_test_' + metric)]\n",
    "    scores_mean = cv_results['mean_test_score']\n",
    "    scores_sd = cv_results['std_test_score']\n",
    "\n",
    "    if grid_param_2 is not None:\n",
    "        scores_mean = np.array(scores_mean).reshape(len(grid_param_2),len(grid_param_1))\n",
    "        scores_sd = np.array(scores_sd).reshape(len(grid_param_2),len(grid_param_1))\n",
    "\n",
    "    # Set plot style\n",
    "    plt.style.use('seaborn')\n",
    "\n",
    "    # Plot Grid search scores\n",
    "    _, ax = plt.subplots(1,1)\n",
    "\n",
    "\n",
    "    if grid_param_2 is not None:\n",
    "        # Param1 is the X-axis, Param 2 is represented as a different curve (color line)\n",
    "        for idx, val in enumerate(grid_param_2):\n",
    "            ax.plot(grid_param_1, scores_mean[idx,:], '-o', label= name_param_2 + ': ' + str(val), grid_param_1[23])\n",
    "    else:\n",
    "        # If only one Param1 is given\n",
    "        ax.plot(grid_param_1, scores_mean, '-o')\n",
    "\n",
    "    ax.set_title(\"SVM Grid Search Results\", fontsize=20, fontweight='normal')\n",
    "    ax.set_xlabel(name_param_1, fontsize=16)\n",
    "    ax.set_ylabel(metric)\n",
    "    ax.legend(loc=\"best\", fontsize=15)\n",
    "    ax.grid('on')\n",
    "    print(grid_param_1[23])"
   ]
  },
  {
   "cell_type": "code",
   "execution_count": 15,
   "id": "97e9c860-1a48-417b-9062-a5c5ef8c9968",
   "metadata": {},
   "outputs": [
    {
     "name": "stdout",
     "output_type": "stream",
     "text": [
      "0.9583750000000001\n"
     ]
    },
    {
     "data": {
      "image/png": "[encoded data removed]",
      "text/plain": [
       "<Figure size 576x396 with 1 Axes>"
      ]
     },
     "metadata": {},
     "output_type": "display_data"
    }
   ],
   "source": [
    "plot_grid_search(grid.cv_results_,\n",
    "                 'Accuracy',\n",
    "                 list(np.linspace(0.001, 1, 25)), \n",
    "                 ['Linear', 'RBF','Polynomial'],\n",
    "                 'Gamma',\n",
    "                 'Kernel')"
   ]
  },
  {
   "cell_type": "code",
   "execution_count": 17,
   "id": "c28b0674-2025-41d8-a760-482c9eaf74bb",
   "metadata": {},
   "outputs": [
    {
     "name": "stdout",
     "output_type": "stream",
     "text": [
      "208.4125\n"
     ]
    },
    {
     "data": {
      "image/png": "[encoded data removed]",
      "text/plain": [
       "<Figure size 576x396 with 1 Axes>"
      ]
     },
     "metadata": {},
     "output_type": "display_data"
    }
   ],
   "source": [
    "plot_grid_search(grid.cv_results_,\n",
    "                 'Accuracy',\n",
    "                 list(np.linspace(0.1, 1000, 25)), \n",
    "                 ['Linear', 'RBF','Polynomial'],\n",
    "                 'C',\n",
    "                 'Kernel')"
   ]
  },
  {
   "cell_type": "code",
   "execution_count": 18,
   "id": "f3eb0d28",
   "metadata": {},
   "outputs": [
    {
     "data": {
      "text/plain": [
       "SVC(C=208.4125, gamma=0.9583750000000001)"
      ]
     },
     "execution_count": 18,
     "metadata": {},
     "output_type": "execute_result"
    }
   ],
   "source": [
    "from sklearn import svm\n",
    "\n",
    "svm_model = svm.SVC(kernel='rbf', gamma=0.9583750000000001, C=208.4125)\n",
    "svm_model.fit(X_train, y_train)"
   ]
  },
  {
   "cell_type": "code",
   "execution_count": 19,
   "id": "0383e3ad",
   "metadata": {},
   "outputs": [],
   "source": [
    "y_predict = svm_model.predict(X_test)"
   ]
  },
  {
   "cell_type": "code",
   "execution_count": 20,
   "id": "12c9a3f1",
   "metadata": {},
   "outputs": [
    {
     "name": "stdout",
     "output_type": "stream",
     "text": [
      "Traning Accuracy :  0.998828125\n",
      "Testing Accuracy :  0.9986607142857142\n"
     ]
    }
   ],
   "source": [
    "print(\"Traning Accuracy : \", svm_model.score(X_train, y_train))\n",
    "print(\"Testing Accuracy : \", svm_model.score(X_test, y_test))"
   ]
  },
  {
   "cell_type": "code",
   "execution_count": 22,
   "id": "ce366dab",
   "metadata": {},
   "outputs": [
    {
     "name": "stdout",
     "output_type": "stream",
     "text": [
      "              precision    recall  f1-score   support\n",
      "\n",
      "         0.0       1.00      1.00      1.00      1632\n",
      "         1.0       1.00      1.00      1.00      1759\n",
      "         2.0       1.00      1.00      1.00      1511\n",
      "         3.0       1.00      0.99      0.99       733\n",
      "         4.0       1.00      1.00      1.00      2242\n",
      "         5.0       1.00      1.00      1.00      1083\n",
      "\n",
      "    accuracy                           1.00      8960\n",
      "   macro avg       1.00      1.00      1.00      8960\n",
      "weighted avg       1.00      1.00      1.00      8960\n",
      "\n"
     ]
    }
   ],
   "source": [
    "from sklearn.metrics import classification_report\n",
    "print(classification_report(y_test,y_predict))"
   ]
  },
  {
   "cell_type": "code",
   "execution_count": 24,
   "id": "fe5ffcfc",
   "metadata": {},
   "outputs": [
    {
     "name": "stdout",
     "output_type": "stream",
     "text": [
      "[[1632    0    0    0    0    0]\n",
      " [   0 1758    0    0    1    0]\n",
      " [   0    0 1511    0    0    0]\n",
      " [   0    3    1  726    3    0]\n",
      " [   0    1    0    2 2239    0]\n",
      " [   0    0    0    1    0 1082]]\n"
     ]
    }
   ],
   "source": [
    "from sklearn.metrics import  confusion_matrix\n",
    "print(confusion_matrix(y_test,y_predict))"
   ]
  },
  {
   "cell_type": "markdown",
   "id": "3376b92f",
   "metadata": {},
   "source": [
    "### KNN"
   ]
  },
  {
   "cell_type": "markdown",
   "id": "befbb0da",
   "metadata": {},
   "source": [
    "#### Grid Search"
   ]
  },
  {
   "cell_type": "code",
   "execution_count": 65,
   "id": "46583f9c",
   "metadata": {},
   "outputs": [
    {
     "name": "stdout",
     "output_type": "stream",
     "text": [
      "Fitting 10 folds for each of 30 candidates, totalling 300 fits\n"
     ]
    },
    {
     "data": {
      "text/plain": [
       "GridSearchCV(cv=10, estimator=KNeighborsClassifier(),\n",
       "             param_grid={'n_neighbors': [1, 2, 3, 4, 5, 6, 7, 8, 9, 10, 11, 12,\n",
       "                                         13, 14, 15, 16, 17, 18, 19, 20, 21, 22,\n",
       "                                         23, 24, 25, 26, 27, 28, 29, 30]},\n",
       "             scoring='accuracy', verbose=1)"
      ]
     },
     "execution_count": 65,
     "metadata": {},
     "output_type": "execute_result"
    }
   ],
   "source": [
    "from sklearn.model_selection import GridSearchCV\n",
    "from sklearn.neighbors import KNeighborsClassifier\n",
    "knn = KNeighborsClassifier()\n",
    "k_range = list(range(1, 31))\n",
    "param_grid = dict(n_neighbors=k_range)\n",
    "  \n",
    "# defining parameter range\n",
    "grid = GridSearchCV(knn, param_grid, cv=10, scoring='accuracy', return_train_score=False,verbose=1)\n",
    "  \n",
    "# fitting the model for grid search\n",
    "grid.fit(X_train, y_train)"
   ]
  },
  {
   "cell_type": "code",
   "execution_count": 66,
   "id": "460ec224",
   "metadata": {},
   "outputs": [
    {
     "data": {
      "text/plain": [
       "{'n_neighbors': 5}"
      ]
     },
     "execution_count": 66,
     "metadata": {},
     "output_type": "execute_result"
    }
   ],
   "source": [
    "grid.best_params_"
   ]
  },
  {
   "cell_type": "code",
   "execution_count": 67,
   "id": "e1ac69db",
   "metadata": {},
   "outputs": [
    {
     "data": {
      "text/plain": [
       "0.9961216517857144"
      ]
     },
     "execution_count": 67,
     "metadata": {},
     "output_type": "execute_result"
    }
   ],
   "source": [
    "grid.best_score_"
   ]
  },
  {
   "cell_type": "code",
   "execution_count": 45,
   "id": "9ef9ec3a",
   "metadata": {},
   "outputs": [],
   "source": [
    "from sklearn.neighbors import KNeighborsClassifier    \n",
    "knn_model= KNeighborsClassifier(n_neighbors=5, metric='minkowski', p=2 )  \n",
    "knn_model.fit(X_train, y_train)\n",
    "y_pred= knn_model.predict(X_test)"
   ]
  },
  {
   "cell_type": "code",
   "execution_count": 46,
   "id": "6b5efd22",
   "metadata": {},
   "outputs": [
    {
     "name": "stdout",
     "output_type": "stream",
     "text": [
      "Traning Accuracy :  0.9968191964285714\n",
      "Testing Accuracy :  0.9977678571428571\n"
     ]
    }
   ],
   "source": [
    "print(\"Traning Accuracy : \", knn_model.score(X_train, y_train))\n",
    "print(\"Testing Accuracy : \", knn_model.score(X_test, y_test))"
   ]
  },
  {
   "cell_type": "code",
   "execution_count": 47,
   "id": "baa7d3e7",
   "metadata": {},
   "outputs": [
    {
     "name": "stdout",
     "output_type": "stream",
     "text": [
      "              precision    recall  f1-score   support\n",
      "\n",
      "         0.0       1.00      1.00      1.00      1632\n",
      "         1.0       1.00      1.00      1.00      1759\n",
      "         2.0       1.00      1.00      1.00      1511\n",
      "         3.0       1.00      0.99      0.99       733\n",
      "         4.0       1.00      1.00      1.00      2242\n",
      "         5.0       1.00      1.00      1.00      1083\n",
      "\n",
      "    accuracy                           1.00      8960\n",
      "   macro avg       1.00      1.00      1.00      8960\n",
      "weighted avg       1.00      1.00      1.00      8960\n",
      "\n"
     ]
    }
   ],
   "source": [
    "print(classification_report(y_test,y_predict))"
   ]
  },
  {
   "cell_type": "code",
   "execution_count": 48,
   "id": "1ce7c7c5",
   "metadata": {},
   "outputs": [
    {
     "name": "stdout",
     "output_type": "stream",
     "text": [
      "[[1632    0    0    0    0    0]\n",
      " [   0 1758    0    0    1    0]\n",
      " [   0    0 1511    0    0    0]\n",
      " [   0    3    1  727    2    0]\n",
      " [   0    2    0    2 2238    0]\n",
      " [   0    0    0    1    0 1082]]\n"
     ]
    }
   ],
   "source": [
    "print(confusion_matrix(y_test,y_predict))"
   ]
  },
  {
   "cell_type": "markdown",
   "id": "81ab7612",
   "metadata": {},
   "source": [
    "### Random Forest"
   ]
  },
  {
   "cell_type": "markdown",
   "id": "c1fe59ad",
   "metadata": {},
   "source": [
    "#### Grid Search"
   ]
  },
  {
   "cell_type": "code",
   "execution_count": null,
   "id": "810e1949",
   "metadata": {},
   "outputs": [
    {
     "name": "stdout",
     "output_type": "stream",
     "text": [
      "Fitting 3 folds for each of 500 candidates, totalling 1500 fits\n"
     ]
    }
   ],
   "source": [
    "from sklearn.model_selection import GridSearchCV\n",
    "from sklearn.ensemble import RandomForestClassifier\n",
    "forest= RandomForestClassifier()\n",
    "\n",
    "n_estimators = [100, 300, 500, 800, 1200]\n",
    "max_depth = [5, 8, 15, 25, 30]\n",
    "min_samples_split = [2, 5, 10, 15, 100]\n",
    "min_samples_leaf = [1, 2, 5, 10] \n",
    "\n",
    "hyperF = dict(n_estimators = n_estimators, max_depth = max_depth,  \n",
    "              min_samples_split = min_samples_split, \n",
    "             min_samples_leaf = min_samples_leaf)\n",
    "\n",
    "grid = GridSearchCV(forest, hyperF, cv = 3, verbose = 1, \n",
    "                      n_jobs = -1)\n",
    "grid.fit(X_train, y_train)"
   ]
  },
  {
   "cell_type": "code",
   "execution_count": null,
   "id": "1d356195",
   "metadata": {},
   "outputs": [],
   "source": [
    "grid.best_params_"
   ]
  },
  {
   "cell_type": "code",
   "execution_count": null,
   "id": "5947d52b",
   "metadata": {},
   "outputs": [],
   "source": [
    "grid.best_score_"
   ]
  },
  {
   "cell_type": "code",
   "execution_count": 49,
   "id": "91e999a8",
   "metadata": {},
   "outputs": [],
   "source": [
    "from sklearn.ensemble import RandomForestClassifier\n",
    "\n",
    "rf_model = RandomForestClassifier(n_estimators=100)\n",
    "rf_model.fit(X_train,y_train)\n",
    "y_pred = rf_model.predict(X_test)"
   ]
  },
  {
   "cell_type": "code",
   "execution_count": 50,
   "id": "65b2603a",
   "metadata": {},
   "outputs": [
    {
     "name": "stdout",
     "output_type": "stream",
     "text": [
      "Traning Accuracy :  1.0\n",
      "Testing Accuracy :  0.9985491071428572\n"
     ]
    }
   ],
   "source": [
    "print(\"Traning Accuracy : \", rf_model.score(X_train, y_train))\n",
    "print(\"Testing Accuracy : \", rf_model.score(X_test, y_test))"
   ]
  },
  {
   "cell_type": "code",
   "execution_count": 51,
   "id": "f36a41d7",
   "metadata": {},
   "outputs": [
    {
     "name": "stdout",
     "output_type": "stream",
     "text": [
      "              precision    recall  f1-score   support\n",
      "\n",
      "         0.0       1.00      1.00      1.00      1632\n",
      "         1.0       1.00      1.00      1.00      1759\n",
      "         2.0       1.00      1.00      1.00      1511\n",
      "         3.0       1.00      0.99      0.99       733\n",
      "         4.0       1.00      1.00      1.00      2242\n",
      "         5.0       1.00      1.00      1.00      1083\n",
      "\n",
      "    accuracy                           1.00      8960\n",
      "   macro avg       1.00      1.00      1.00      8960\n",
      "weighted avg       1.00      1.00      1.00      8960\n",
      "\n"
     ]
    }
   ],
   "source": [
    "print(classification_report(y_test,y_predict))"
   ]
  },
  {
   "cell_type": "code",
   "execution_count": 52,
   "id": "10687122",
   "metadata": {},
   "outputs": [
    {
     "name": "stdout",
     "output_type": "stream",
     "text": [
      "[[1632    0    0    0    0    0]\n",
      " [   0 1758    0    0    1    0]\n",
      " [   0    0 1511    0    0    0]\n",
      " [   0    3    1  727    2    0]\n",
      " [   0    2    0    2 2238    0]\n",
      " [   0    0    0    1    0 1082]]\n"
     ]
    }
   ],
   "source": [
    "print(confusion_matrix(y_test,y_predict))"
   ]
  },
  {
   "cell_type": "code",
   "execution_count": null,
   "id": "a880aff9",
   "metadata": {},
   "outputs": [],
   "source": []
  }
 ],
 "metadata": {
  "kernelspec": {
   "display_name": "Python 3 (ipykernel)",
   "language": "python",
   "name": "python3"
  },
  "language_info": {
   "codemirror_mode": {
    "name": "ipython",
    "version": 3
   },
   "file_extension": ".py",
   "mimetype": "text/x-python",
   "name": "python",
   "nbconvert_exporter": "python",
   "pygments_lexer": "ipython3",
   "version": "3.9.13"
  }
 },
 "nbformat": 4,
 "nbformat_minor": 5
}
